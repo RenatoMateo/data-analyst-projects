{
 "cells": [
  {
   "cell_type": "markdown",
   "metadata": {},
   "source": [
    "### Biodiversity Data Analysis: Exploring Conservation Status and Species Observations in U.S. National Parks"
   ]
  },
  {
   "cell_type": "markdown",
   "metadata": {},
   "source": [
    "**Importing Necessary Libraries For Project Performance**"
   ]
  },
  {
   "cell_type": "code",
   "execution_count": 4,
   "metadata": {},
   "outputs": [],
   "source": [
    "import pandas as pd\n",
    "import matplotlib.pyplot as plt\n",
    "import seaborn as sns"
   ]
  },
  {
   "cell_type": "markdown",
   "metadata": {},
   "source": [
    "**Inspecting Data On Species Info And Observations**"
   ]
  },
  {
   "cell_type": "code",
   "execution_count": 28,
   "metadata": {},
   "outputs": [
    {
     "name": "stdout",
     "output_type": "stream",
     "text": [
      "  category                scientific_name  \\\n",
      "0   Mammal  Clethrionomys gapperi gapperi   \n",
      "1   Mammal                      Bos bison   \n",
      "2   Mammal                     Bos taurus   \n",
      "3   Mammal                     Ovis aries   \n",
      "4   Mammal                 Cervus elaphus   \n",
      "5   Mammal         Odocoileus virginianus   \n",
      "6   Mammal                     Sus scrofa   \n",
      "7   Mammal                  Canis latrans   \n",
      "8   Mammal                    Canis lupus   \n",
      "9   Mammal                    Canis rufus   \n",
      "\n",
      "                                        common_names conservation_status  \n",
      "0                           Gapper's Red-Backed Vole                 NaN  \n",
      "1                              American Bison, Bison                 NaN  \n",
      "2  Aurochs, Aurochs, Domestic Cattle (Feral), Dom...                 NaN  \n",
      "3  Domestic Sheep, Mouflon, Red Sheep, Sheep (Feral)                 NaN  \n",
      "4                                      Wapiti Or Elk                 NaN  \n",
      "5                                  White-Tailed Deer                 NaN  \n",
      "6                                Feral Hog, Wild Pig                 NaN  \n",
      "7                                             Coyote  Species of Concern  \n",
      "8                                          Gray Wolf          Endangered  \n",
      "9                                           Red Wolf          Endangered  \n",
      "                     scientific_name                            park_name  \\\n",
      "0                 Vicia benghalensis  Great Smoky Mountains National Park   \n",
      "1                     Neovison vison  Great Smoky Mountains National Park   \n",
      "2                  Prunus subcordata               Yosemite National Park   \n",
      "3               Abutilon theophrasti                  Bryce National Park   \n",
      "4           Githopsis specularioides  Great Smoky Mountains National Park   \n",
      "5  Elymus virginicus var. virginicus               Yosemite National Park   \n",
      "6                   Spizella pusilla            Yellowstone National Park   \n",
      "7                  Elymus multisetus  Great Smoky Mountains National Park   \n",
      "8             Lysimachia quadrifolia               Yosemite National Park   \n",
      "9         Diphyscium cumberlandianum            Yellowstone National Park   \n",
      "\n",
      "   observations  \n",
      "0            68  \n",
      "1            77  \n",
      "2           138  \n",
      "3            84  \n",
      "4            85  \n",
      "5           112  \n",
      "6           228  \n",
      "7            39  \n",
      "8           168  \n",
      "9           250  \n"
     ]
    }
   ],
   "source": [
    "species_info = pd.read_csv(\"species_info.csv\")\n",
    "print(species_info.head(10))\n",
    "\n",
    "observations = pd.read_csv(\"observations.csv\")\n",
    "print(observations.head(10))"
   ]
  },
  {
   "cell_type": "markdown",
   "metadata": {},
   "source": [
    "**Cleaning Species and Observations Datasets** "
   ]
  },
  {
   "cell_type": "code",
   "execution_count": 29,
   "metadata": {},
   "outputs": [
    {
     "name": "stdout",
     "output_type": "stream",
     "text": [
      "These are my species_info columns\n",
      "Index(['category', 'scientific_name', 'common_names', 'conservation_status'], dtype='object')\n",
      "These are my observations columns\n",
      "Index(['scientific_name', 'park_name', 'observations'], dtype='object')\n"
     ]
    }
   ],
   "source": [
    "#Printing all the columns in both datasets\n",
    "print(\"These are my species_info columns\")\n",
    "print(species_info.columns)\n",
    "print(\"These are my observations columns\")\n",
    "print(observations.columns)"
   ]
  },
  {
   "cell_type": "code",
   "execution_count": 30,
   "metadata": {},
   "outputs": [
    {
     "name": "stdout",
     "output_type": "stream",
     "text": [
      "The Species Dataset have the next number of rows and columns (5824, 4)\n",
      "The observations Dataset have the next number of rows and column (23296, 3)\n"
     ]
    }
   ],
   "source": [
    "# Applying the .shape method in pandas to identify the number of rows and columns in our datasets\n",
    "print(\"The Species Dataset have the next number of rows and columns\", species_info.shape)\n",
    "print(\"The observations Dataset have the next number of rows and column\", observations.shape)"
   ]
  },
  {
   "cell_type": "code",
   "execution_count": 31,
   "metadata": {},
   "outputs": [
    {
     "name": "stdout",
     "output_type": "stream",
     "text": [
      "These are the number of duplicates in the species_info dataset\n",
      "False    5824\n",
      "Name: count, dtype: int64\n",
      "These are the number of duplicates in the observations dataset\n",
      "False    23281\n",
      "True        15\n",
      "Name: count, dtype: int64\n",
      "Species dataset after eliminating duplicates:\n",
      "Rows and columns: (5824, 4)\n",
      "Observations dataset after eliminating duplicates:\n",
      "Rows and columns: (23281, 3)\n"
     ]
    }
   ],
   "source": [
    "#Applying the .duplicated() and drop_duplicates() functions to remove duplicate rows\n",
    "\n",
    "# Check for duplicates in species_info\n",
    "check_species_duplicated = species_info.duplicated()\n",
    "print(\"These are the number of duplicates in the species_info dataset\")\n",
    "print(check_species_duplicated.value_counts())\n",
    "# Check for duplicates in observations\n",
    "check_observations_duplicated = observations.duplicated()\n",
    "print(\"These are the number of duplicates in the observations dataset\")\n",
    "print(check_observations_duplicated.value_counts())\n",
    "# Drop duplicate rows\n",
    "species_info = species_info.drop_duplicates()\n",
    "observations = observations.drop_duplicates()\n",
    "# Display final dataset shapes\n",
    "print(\"Species dataset after eliminating duplicates:\")\n",
    "print(\"Rows and columns:\", species_info.shape)\n",
    "print(\"Observations dataset after eliminating duplicates:\")\n",
    "print(\"Rows and columns:\", observations.shape)"
   ]
  },
  {
   "cell_type": "markdown",
   "metadata": {},
   "source": [
    "**Performing Exploratory Data Anlysis**"
   ]
  },
  {
   "cell_type": "code",
   "execution_count": 9,
   "metadata": {},
   "outputs": [
    {
     "name": "stdout",
     "output_type": "stream",
     "text": [
      "This is the data type of the dataset Species\n",
      "category               object\n",
      "scientific_name        object\n",
      "common_names           object\n",
      "conservation_status    object\n",
      "dtype: object\n",
      "This is the data type of the dataset Observations\n",
      "scientific_name    object\n",
      "park_name          object\n",
      "observations        int64\n",
      "dtype: object\n"
     ]
    }
   ],
   "source": [
    "#Identifying Data Type of each column with .dtypes\n",
    "print(\"This is the data type of the dataset Species\") \n",
    "print(species_info.dtypes)\n",
    "print(\"This is the data type of the dataset Observations\")\n",
    "print(observations.dtypes)\n"
   ]
  },
  {
   "cell_type": "code",
   "execution_count": 10,
   "metadata": {},
   "outputs": [
    {
     "name": "stdout",
     "output_type": "stream",
     "text": [
      "Unique values per column of the dataset Species\n",
      "category                  7\n",
      "scientific_name        5541\n",
      "common_names           5504\n",
      "conservation_status       4\n",
      "dtype: int64\n",
      "Unique values of the column conservation_status\n",
      "[nan 'Species of Concern' 'Endangered' 'Threatened' 'In Recovery']\n",
      "Unique values of the column category\n",
      "['Mammal' 'Bird' 'Reptile' 'Amphibian' 'Fish' 'Vascular Plant'\n",
      " 'Nonvascular Plant']\n"
     ]
    }
   ],
   "source": [
    "#Calculating the unique number of values in dataset species_info with .nunique()\n",
    "print(\"Unique values per column of the dataset Species\")\n",
    "print(species_info.nunique())\n",
    "print(\"Unique values of the column conservation_status\")\n",
    "print(species_info[\"conservation_status\"].unique())\n",
    "print(\"Unique values of the column category\")\n",
    "print(species_info[\"category\"].unique())\n"
   ]
  },
  {
   "cell_type": "code",
   "execution_count": 11,
   "metadata": {},
   "outputs": [
    {
     "name": "stdout",
     "output_type": "stream",
     "text": [
      "Unique values per column of the dataset Observations\n",
      "scientific_name    5541\n",
      "park_name             4\n",
      "observations        304\n",
      "dtype: int64\n",
      "Unique values of the column park_name\n",
      "['Great Smoky Mountains National Park' 'Yosemite National Park'\n",
      " 'Bryce National Park' 'Yellowstone National Park']\n"
     ]
    }
   ],
   "source": [
    "##Calculating the unique number of values in dataset observations with .nunique()\n",
    "print(\"Unique values per column of the dataset Observations\")\n",
    "print(observations.nunique())\n",
    "print(\"Unique values of the column park_name\")\n",
    "print(observations[\"park_name\"].unique()) "
   ]
  },
  {
   "cell_type": "code",
   "execution_count": 12,
   "metadata": {},
   "outputs": [
    {
     "name": "stdout",
     "output_type": "stream",
     "text": [
      "Number of Missing Values in the dataset species per column:\n",
      "category                  0\n",
      "scientific_name           0\n",
      "common_names              0\n",
      "conservation_status    5633\n",
      "dtype: int64\n",
      "Number of Missing Values in the dataset observations per column:\n",
      "scientific_name    0\n",
      "park_name          0\n",
      "observations       0\n",
      "dtype: int64\n"
     ]
    }
   ],
   "source": [
    "# Counting the number of missing values in each dataset with .isna().sum()\n",
    "print(\"Number of Missing Values in the dataset species per column:\")\n",
    "print(species_info.isna().sum())\n",
    "print(\"Number of Missing Values in the dataset observations per column:\")\n",
    "print(observations.isna().sum())"
   ]
  },
  {
   "cell_type": "code",
   "execution_count": 13,
   "metadata": {},
   "outputs": [
    {
     "name": "stdout",
     "output_type": "stream",
     "text": [
      "Percentage of missing values for conservation status: 96.72%\n"
     ]
    }
   ],
   "source": [
    "## Calculate percentage of missing values in conservation_status column: \n",
    "species_info_count = species_info[\"conservation_status\"].isna().sum()/len(species_info) *100\n",
    "print(f\"Percentage of missing values for conservation status: {species_info_count:.2f}%\")"
   ]
  },
  {
   "cell_type": "code",
   "execution_count": 14,
   "metadata": {},
   "outputs": [
    {
     "data": {
      "text/html": [
       "<div>\n",
       "<style scoped>\n",
       "    .dataframe tbody tr th:only-of-type {\n",
       "        vertical-align: middle;\n",
       "    }\n",
       "\n",
       "    .dataframe tbody tr th {\n",
       "        vertical-align: top;\n",
       "    }\n",
       "\n",
       "    .dataframe thead th {\n",
       "        text-align: right;\n",
       "    }\n",
       "</style>\n",
       "<table border=\"1\" class=\"dataframe\">\n",
       "  <thead>\n",
       "    <tr style=\"text-align: right;\">\n",
       "      <th>Conservation is NAN</th>\n",
       "      <th>False</th>\n",
       "      <th>True</th>\n",
       "    </tr>\n",
       "    <tr>\n",
       "      <th>category</th>\n",
       "      <th></th>\n",
       "      <th></th>\n",
       "    </tr>\n",
       "  </thead>\n",
       "  <tbody>\n",
       "    <tr>\n",
       "      <th>Amphibian</th>\n",
       "      <td>7</td>\n",
       "      <td>73</td>\n",
       "    </tr>\n",
       "    <tr>\n",
       "      <th>Bird</th>\n",
       "      <td>79</td>\n",
       "      <td>442</td>\n",
       "    </tr>\n",
       "    <tr>\n",
       "      <th>Fish</th>\n",
       "      <td>11</td>\n",
       "      <td>116</td>\n",
       "    </tr>\n",
       "    <tr>\n",
       "      <th>Mammal</th>\n",
       "      <td>38</td>\n",
       "      <td>176</td>\n",
       "    </tr>\n",
       "    <tr>\n",
       "      <th>Nonvascular Plant</th>\n",
       "      <td>5</td>\n",
       "      <td>328</td>\n",
       "    </tr>\n",
       "    <tr>\n",
       "      <th>Reptile</th>\n",
       "      <td>5</td>\n",
       "      <td>74</td>\n",
       "    </tr>\n",
       "    <tr>\n",
       "      <th>Vascular Plant</th>\n",
       "      <td>46</td>\n",
       "      <td>4424</td>\n",
       "    </tr>\n",
       "  </tbody>\n",
       "</table>\n",
       "</div>"
      ],
      "text/plain": [
       "Conservation is NAN  False  True \n",
       "category                         \n",
       "Amphibian                7     73\n",
       "Bird                    79    442\n",
       "Fish                    11    116\n",
       "Mammal                  38    176\n",
       "Nonvascular Plant        5    328\n",
       "Reptile                  5     74\n",
       "Vascular Plant          46   4424"
      ]
     },
     "execution_count": 14,
     "metadata": {},
     "output_type": "execute_result"
    }
   ],
   "source": [
    "#Identifying number of missing value in the dataset Species by category with pd.crosstab\n",
    "pd.crosstab(\n",
    "    species_info[\"category\"], \n",
    "    species_info[\"conservation_status\"].isna(),\n",
    "    rownames=[\"category\"], \n",
    "     colnames = ['Conservation is NAN']) "
   ]
  },
  {
   "cell_type": "markdown",
   "metadata": {},
   "source": [
    "The category that we know less about in terms of conservation status are **Vascular Plants (4424 NaN)** and **Nonvascular Plants (328 NaN)**. Alongside with the category Birds, which has 442 NaN values on conservation status. NaN in this context means we lack info."
   ]
  },
  {
   "cell_type": "markdown",
   "metadata": {},
   "source": [
    "### Key Questions: "
   ]
  },
  {
   "cell_type": "markdown",
   "metadata": {},
   "source": [
    "### How are species observations distributed by biological category?"
   ]
  },
  {
   "cell_type": "code",
   "execution_count": 16,
   "metadata": {},
   "outputs": [
    {
     "name": "stdout",
     "output_type": "stream",
     "text": [
      "<class 'pandas.core.frame.DataFrame'>\n",
      "RangeIndex: 25601 entries, 0 to 25600\n",
      "Data columns (total 6 columns):\n",
      " #   Column               Non-Null Count  Dtype \n",
      "---  ------               --------------  ----- \n",
      " 0   scientific_name      25601 non-null  object\n",
      " 1   park_name            25601 non-null  object\n",
      " 2   observations         25601 non-null  int64 \n",
      " 3   category             25601 non-null  object\n",
      " 4   common_names         25601 non-null  object\n",
      " 5   conservation_status  880 non-null    object\n",
      "dtypes: int64(1), object(5)\n",
      "memory usage: 1.2+ MB\n",
      "Missing values per column:\n",
      "scientific_name            0\n",
      "park_name                  0\n",
      "observations               0\n",
      "category                   0\n",
      "common_names               0\n",
      "conservation_status    24721\n",
      "dtype: int64\n",
      "Number of duplicated rows:\n",
      "0\n"
     ]
    }
   ],
   "source": [
    "#Joining together both datasets observations and info through the column scientific_name. \n",
    "merged_df= pd.merge(observations,species_info, on=\"scientific_name\")\n",
    "#Quality Control for merge df:\n",
    "#Basic Info: \n",
    "merged_df.info()\n",
    "#Missing Values: \n",
    "print(\"Missing values per column:\")\n",
    "print(merged_df.isna().sum())\n",
    "#Duplicates Row: \n",
    "print(\"Number of duplicated rows:\")\n",
    "print(merged_df.duplicated().sum())\n"
   ]
  },
  {
   "cell_type": "code",
   "execution_count": 17,
   "metadata": {},
   "outputs": [
    {
     "data": {
      "image/png": "[encoded data removed]",
      "text/plain": [
       "<Figure size 1000x500 with 1 Axes>"
      ]
     },
     "metadata": {},
     "output_type": "display_data"
    }
   ],
   "source": [
    "#Grouping total number of observations by category\n",
    "grouping_by_category = merged_df.groupby(\"category\")[\"observations\"].sum().sort_values(ascending=False)\n",
    "#Plottting Bar Chart for number of observations by bilogical category\n",
    "grouping_by_category.plot(kind=\"bar\", figsize=(10,5), color=\"skyblue\")\n",
    "plt.title(\"Total Observations by Category\")\n",
    "plt.ylabel(\"Number of Observations\")\n",
    "plt.xlabel('Category')\n",
    "plt.xticks(rotation=45)\n",
    "plt.tight_layout()\n",
    "plt.show()"
   ]
  },
  {
   "cell_type": "code",
   "execution_count": 18,
   "metadata": {},
   "outputs": [
    {
     "data": {
      "image/png": "[encoded data removed]",
      "text/plain": [
       "<Figure size 1200x600 with 1 Axes>"
      ]
     },
     "metadata": {},
     "output_type": "display_data"
    }
   ],
   "source": [
    "#Plotting Distribution of observations by category. \n",
    "plt.figure(figsize=(12,6))\n",
    "sns.boxplot(data=merged_df, x = \"category\", y=\"observations\")\n",
    "plt.xticks(rotation=45)\n",
    "plt.title('Distribution of Species Observations per Category')\n",
    "plt.xlabel('Category')\n",
    "plt.ylabel('Number of Observations')\n",
    "plt.tight_layout()\n",
    "plt.show()"
   ]
  },
  {
   "cell_type": "markdown",
   "metadata": {},
   "source": [
    "### Do species with a known conservation status differ in observations compared to those without, after accounting for category?"
   ]
  },
  {
   "cell_type": "code",
   "execution_count": 19,
   "metadata": {},
   "outputs": [
    {
     "name": "stdout",
     "output_type": "stream",
     "text": [
      "category\n",
      "Amphibian             45068\n",
      "Bird                 331606\n",
      "Fish                  72901\n",
      "Mammal               162608\n",
      "Nonvascular Plant    190653\n",
      "Reptile               45822\n",
      "Name: observations, dtype: int64\n",
      "category\n",
      "Amphibian            137.402439\n",
      "Bird                 140.451504\n",
      "Fish                 139.124046\n",
      "Mammal               135.732888\n",
      "Nonvascular Plant    143.132883\n",
      "Reptile              141.425926\n",
      "Name: observations, dtype: float64\n"
     ]
    }
   ],
   "source": [
    "#Counting observations of species by category and filtering Vascular Plant.\n",
    "filtered_in_df = merged_df[merged_df[\"category\"] !=\"Vascular Plant\"]\n",
    "grouping_by_category_no_vascular_plants_sum = filtered_in_df.groupby(\"category\")[\"observations\"].sum()\n",
    "print(grouping_by_category_no_vascular_plants_sum)\n",
    "grouping_by_category_no_vascular_plants_mean = filtered_in_df.groupby(\"category\")[\"observations\"].mean()\n",
    "print(grouping_by_category_no_vascular_plants_mean)\n"
   ]
  },
  {
   "cell_type": "code",
   "execution_count": 20,
   "metadata": {},
   "outputs": [],
   "source": [
    "# Defining the hypothesis for the experiment\n",
    "null_hypothesis = (\"There is no significant difference in the number of observations between species with NaN conservation status and\\n\"\n",
    "\"those with a defined status.\")\n",
    "alternative_hypothesis = (\"Species with NaN conservation status have, on average, more observations than those with a defined status.\")"
   ]
  },
  {
   "cell_type": "code",
   "execution_count": 21,
   "metadata": {},
   "outputs": [],
   "source": [
    "#Separating groups with nan and non nan conservation status\n",
    "nan_group = merged_df[merged_df[\"conservation_status\"].isna()]\n",
    "not_nan_group = merged_df[~merged_df[\"conservation_status\"].isna()]"
   ]
  },
  {
   "cell_type": "code",
   "execution_count": 25,
   "metadata": {},
   "outputs": [
    {
     "data": {
      "image/png": "[encoded data removed]",
      "text/plain": [
       "<Figure size 640x480 with 1 Axes>"
      ]
     },
     "metadata": {},
     "output_type": "display_data"
    }
   ],
   "source": [
    "#Plotting overlaping histogram of nan and not nan conservation stutus observations of species. \n",
    "plt.hist(nan_group[\"observations\"], bins= 30, alpha=0.5, label = \"Nan Conservation Status\", density =True) \n",
    "plt.hist(not_nan_group[\"observations\"], bins= 30, alpha=0.5, label= \"Defined conservation status\", density =True)\n",
    "plt.xlabel(\"Observations\")\n",
    "plt.ylabel(\"Density\")\n",
    "plt.title(\"Distribution of Observations by Conservation Status\")\n",
    "plt.legend()\n",
    "plt.show()"
   ]
  },
  {
   "cell_type": "code",
   "execution_count": null,
   "metadata": {},
   "outputs": [],
   "source": [
    "#Performing T-test to prove hypothesis\n",
    "from scipy.stats import ttest_ind\n",
    "t_stat, p_value = ttest_ind(nan_group[\"observations\"], not_nan_group[\"observations\"], equal_var=False)\n",
    "\n",
    "print(\"T-statistic:\", t_stat)\n",
    "print(\"P-value:\", p_value)\n"
   ]
  },
  {
   "cell_type": "markdown",
   "metadata": {},
   "source": [
    "***Statistical Insight***\n",
    "\n",
    "I ran a t-test to compare the average number of observations between species with no conservation status (`NaN`) and those with a defined status. The result was a **very low p-value (0.000018)**, which usually means the difference is statistically significant — in this case, species without a conservation label tend to have more recorded observations.\n",
    "\n",
    "However, after plotting the data, I noticed the distribution for the `NaN` group is:\n",
    "\n",
    "- **Skewed**, which could affect statistical results\n",
    "- Shows signs of **bimodality** (two different peaks)\n",
    "- Might include **extreme outliers**\n",
    "\n",
    "This could make the t-test less reliable. \n",
    "\n",
    "---\n",
    "\n",
    "**Next Steps:**\n",
    "\n",
    "- Remove the **top 1% of extreme values** from both groups  \n",
    "- Run a **Mann-Whitney U test**, which doesn’t assume normal distribution  \n",
    "- Confirm if the difference in observations still holds\n",
    "\n",
    "This will give a clearer and more robust picture of what’s happening in the data.\n"
   ]
  },
  {
   "cell_type": "code",
   "execution_count": null,
   "metadata": {},
   "outputs": [],
   "source": []
  }
 ],
 "metadata": {
  "kernelspec": {
   "display_name": "Python 3 (ipykernel)",
   "language": "python",
   "name": "python3"
  },
  "language_info": {
   "codemirror_mode": {
    "name": "ipython",
    "version": 3
   },
   "file_extension": ".py",
   "mimetype": "text/x-python",
   "name": "python",
   "nbconvert_exporter": "python",
   "pygments_lexer": "ipython3",
   "version": "3.12.9"
  }
 },
 "nbformat": 4,
 "nbformat_minor": 4
}
