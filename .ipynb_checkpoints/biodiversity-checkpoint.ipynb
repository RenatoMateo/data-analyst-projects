{
 "cells": [
  {
   "cell_type": "code",
   "execution_count": 4,
   "metadata": {},
   "outputs": [],
   "source": [
    "import pandas as pd\n",
    "import matplotlib.pyplot as plt\n",
    "import seaborn as sns"
   ]
  },
  {
   "cell_type": "markdown",
   "metadata": {},
   "source": [
    "First, Download Datasets Of the National Park: species and observations."
   ]
  },
  {
   "cell_type": "code",
   "execution_count": 5,
   "metadata": {},
   "outputs": [
    {
     "name": "stdout",
     "output_type": "stream",
     "text": [
      "  category                scientific_name  \\\n",
      "0   Mammal  Clethrionomys gapperi gapperi   \n",
      "1   Mammal                      Bos bison   \n",
      "2   Mammal                     Bos taurus   \n",
      "3   Mammal                     Ovis aries   \n",
      "4   Mammal                 Cervus elaphus   \n",
      "5   Mammal         Odocoileus virginianus   \n",
      "6   Mammal                     Sus scrofa   \n",
      "7   Mammal                  Canis latrans   \n",
      "8   Mammal                    Canis lupus   \n",
      "9   Mammal                    Canis rufus   \n",
      "\n",
      "                                        common_names conservation_status  \n",
      "0                           Gapper's Red-Backed Vole                 NaN  \n",
      "1                              American Bison, Bison                 NaN  \n",
      "2  Aurochs, Aurochs, Domestic Cattle (Feral), Dom...                 NaN  \n",
      "3  Domestic Sheep, Mouflon, Red Sheep, Sheep (Feral)                 NaN  \n",
      "4                                      Wapiti Or Elk                 NaN  \n",
      "5                                  White-Tailed Deer                 NaN  \n",
      "6                                Feral Hog, Wild Pig                 NaN  \n",
      "7                                             Coyote  Species of Concern  \n",
      "8                                          Gray Wolf          Endangered  \n",
      "9                                           Red Wolf          Endangered  \n",
      "                     scientific_name                            park_name  \\\n",
      "0                 Vicia benghalensis  Great Smoky Mountains National Park   \n",
      "1                     Neovison vison  Great Smoky Mountains National Park   \n",
      "2                  Prunus subcordata               Yosemite National Park   \n",
      "3               Abutilon theophrasti                  Bryce National Park   \n",
      "4           Githopsis specularioides  Great Smoky Mountains National Park   \n",
      "5  Elymus virginicus var. virginicus               Yosemite National Park   \n",
      "6                   Spizella pusilla            Yellowstone National Park   \n",
      "7                  Elymus multisetus  Great Smoky Mountains National Park   \n",
      "8             Lysimachia quadrifolia               Yosemite National Park   \n",
      "9         Diphyscium cumberlandianum            Yellowstone National Park   \n",
      "\n",
      "   observations  \n",
      "0            68  \n",
      "1            77  \n",
      "2           138  \n",
      "3            84  \n",
      "4            85  \n",
      "5           112  \n",
      "6           228  \n",
      "7            39  \n",
      "8           168  \n",
      "9           250  \n"
     ]
    }
   ],
   "source": [
    "species_info = pd.read_csv(\"species_info.csv\")\n",
    "print(species_info.head(10))\n",
    "\n",
    "observations = pd.read_csv(\"observations.csv\")\n",
    "print(observations.head(10))"
   ]
  },
  {
   "cell_type": "markdown",
   "metadata": {},
   "source": [
    "Second, Process of Cleaning Data Both Datasets "
   ]
  },
  {
   "cell_type": "code",
   "execution_count": 7,
   "metadata": {},
   "outputs": [
    {
     "name": "stdout",
     "output_type": "stream",
     "text": [
      "These are my species_info columns\n",
      "Index(['category', 'scientific_name', 'common_names', 'conservation_status'], dtype='object')\n",
      "These are my observations columns\n",
      "Index(['scientific_name', 'park_name', 'observations'], dtype='object')\n"
     ]
    }
   ],
   "source": [
    "#Printing all the columns in both datasets\n",
    "print(\"These are my species_info columns\")\n",
    "print(species_info.columns)\n",
    "print(\"These are my observations columns\")\n",
    "print(observations.columns)"
   ]
  },
  {
   "cell_type": "code",
   "execution_count": 3,
   "metadata": {},
   "outputs": [
    {
     "name": "stdout",
     "output_type": "stream",
     "text": [
      "The Species Dataset have the next number of rows and columns (5824, 4)\n",
      "The observations Dataset have the next number of rows and column (23296, 3)\n"
     ]
    }
   ],
   "source": [
    "# Applying the .shape method in pandas to identify the number of rows and columns in our datasets\n",
    "print(\"The Species Dataset have the next number of rows and columns\", species_info.shape)\n",
    "print(\"The observations Dataset have the next number of rows and column\", observations.shape)"
   ]
  },
  {
   "cell_type": "code",
   "execution_count": 4,
   "metadata": {},
   "outputs": [
    {
     "name": "stdout",
     "output_type": "stream",
     "text": [
      "These are my number of duplicates in my dataset species_info\n",
      "False    5824\n",
      "Name: count, dtype: int64\n",
      "These are my number of duplicates in my dataset observations\n",
      "False    23281\n",
      "True        15\n",
      "Name: count, dtype: int64\n",
      "The Species Dataset afeter eliminating duplicates have the next number of rows and columns (5824, 4)\n",
      "The observations Dataset afeter eliminating duplicates have the next number of rows and column (23281, 3)\n"
     ]
    }
   ],
   "source": [
    "#Applying the .duplicated() and drop_duplicates() functions to remove duplicate rows\n",
    "Check_species_duplicated = species_info.duplicated()\n",
    "print(\"These are my number of duplicates in my dataset species_info\")\n",
    "print(Check_species_duplicated.value_counts())\n",
    "Check_observations_duplicated = observations.duplicated()\n",
    "print(\"These are my number of duplicates in my dataset observations\")\n",
    "print(Check_observations_duplicated.value_counts())\n",
    "species_info = species_info.drop_duplicates()\n",
    "observations = observations.drop_duplicates()\n",
    "print(\"The Species Dataset afeter eliminating duplicates have the next number of rows and columns\", species_info.shape)\n",
    "print(\"The observations Dataset afeter eliminating duplicates have the next number of rows and column\", observations.shape)"
   ]
  },
  {
   "cell_type": "code",
   "execution_count": 5,
   "metadata": {},
   "outputs": [
    {
     "name": "stdout",
     "output_type": "stream",
     "text": [
      "This is the data type of the dataset Species\n",
      "category               object\n",
      "scientific_name        object\n",
      "common_names           object\n",
      "conservation_status    object\n",
      "dtype: object\n",
      "This is the data type of the dataset Observations\n",
      "scientific_name    object\n",
      "park_name          object\n",
      "observations        int64\n",
      "dtype: object\n"
     ]
    }
   ],
   "source": [
    "#Identifying Data Type of each column with .dtypes\n",
    "print(\"This is the data type of the dataset Species\") \n",
    "print(species_info.dtypes)\n",
    "print(\"This is the data type of the dataset Observations\")\n",
    "print(observations.dtypes)\n"
   ]
  },
  {
   "cell_type": "code",
   "execution_count": 6,
   "metadata": {},
   "outputs": [
    {
     "name": "stdout",
     "output_type": "stream",
     "text": [
      "Unique values per column of the dataset Species\n",
      "category                  7\n",
      "scientific_name        5541\n",
      "common_names           5504\n",
      "conservation_status       4\n",
      "dtype: int64\n",
      "Unique values per column of the dataset Observations\n",
      "scientific_name    5541\n",
      "park_name             4\n",
      "observations        304\n",
      "dtype: int64\n"
     ]
    }
   ],
   "source": [
    "#Calculating the unique number of values in each dataset with .nunique()\n",
    "print(\"Unique values per column of the dataset Species\")\n",
    "print(species_info.nunique())\n",
    "\n",
    "print(\"Unique values per column of the dataset Observations\")\n",
    "print(observations.nunique())"
   ]
  },
  {
   "cell_type": "code",
   "execution_count": 7,
   "metadata": {},
   "outputs": [
    {
     "name": "stdout",
     "output_type": "stream",
     "text": [
      "Number of Missing Values in the dataset Species per column:\n",
      "category                  0\n",
      "scientific_name           0\n",
      "common_names              0\n",
      "conservation_status    5633\n",
      "dtype: int64\n",
      "Number of Missing Values in the dataset Observations per column:\n",
      "scientific_name    0\n",
      "park_name          0\n",
      "observations       0\n",
      "dtype: int64\n"
     ]
    }
   ],
   "source": [
    "# Counting the number of missing values in each dataset with .isna().sum()\n",
    "print(\"Number of Missing Values in the dataset Species per column:\")\n",
    "print(species_info.isna().sum())\n",
    "print(\"Number of Missing Values in the dataset Observations per column:\")\n",
    "print(observations.isna().sum())"
   ]
  },
  {
   "cell_type": "code",
   "execution_count": null,
   "metadata": {},
   "outputs": [],
   "source": []
  },
  {
   "cell_type": "code",
   "execution_count": 8,
   "metadata": {},
   "outputs": [
    {
     "data": {
      "text/html": [
       "<div>\n",
       "<style scoped>\n",
       "    .dataframe tbody tr th:only-of-type {\n",
       "        vertical-align: middle;\n",
       "    }\n",
       "\n",
       "    .dataframe tbody tr th {\n",
       "        vertical-align: top;\n",
       "    }\n",
       "\n",
       "    .dataframe thead th {\n",
       "        text-align: right;\n",
       "    }\n",
       "</style>\n",
       "<table border=\"1\" class=\"dataframe\">\n",
       "  <thead>\n",
       "    <tr style=\"text-align: right;\">\n",
       "      <th>Conservation is NAN</th>\n",
       "      <th>False</th>\n",
       "      <th>True</th>\n",
       "    </tr>\n",
       "    <tr>\n",
       "      <th>category</th>\n",
       "      <th></th>\n",
       "      <th></th>\n",
       "    </tr>\n",
       "  </thead>\n",
       "  <tbody>\n",
       "    <tr>\n",
       "      <th>Amphibian</th>\n",
       "      <td>7</td>\n",
       "      <td>73</td>\n",
       "    </tr>\n",
       "    <tr>\n",
       "      <th>Bird</th>\n",
       "      <td>79</td>\n",
       "      <td>442</td>\n",
       "    </tr>\n",
       "    <tr>\n",
       "      <th>Fish</th>\n",
       "      <td>11</td>\n",
       "      <td>116</td>\n",
       "    </tr>\n",
       "    <tr>\n",
       "      <th>Mammal</th>\n",
       "      <td>38</td>\n",
       "      <td>176</td>\n",
       "    </tr>\n",
       "    <tr>\n",
       "      <th>Nonvascular Plant</th>\n",
       "      <td>5</td>\n",
       "      <td>328</td>\n",
       "    </tr>\n",
       "    <tr>\n",
       "      <th>Reptile</th>\n",
       "      <td>5</td>\n",
       "      <td>74</td>\n",
       "    </tr>\n",
       "    <tr>\n",
       "      <th>Vascular Plant</th>\n",
       "      <td>46</td>\n",
       "      <td>4424</td>\n",
       "    </tr>\n",
       "  </tbody>\n",
       "</table>\n",
       "</div>"
      ],
      "text/plain": [
       "Conservation is NAN  False  True \n",
       "category                         \n",
       "Amphibian                7     73\n",
       "Bird                    79    442\n",
       "Fish                    11    116\n",
       "Mammal                  38    176\n",
       "Nonvascular Plant        5    328\n",
       "Reptile                  5     74\n",
       "Vascular Plant          46   4424"
      ]
     },
     "execution_count": 8,
     "metadata": {},
     "output_type": "execute_result"
    }
   ],
   "source": [
    "#Identifying number of missing value in the dataset Species by category with pd.crosstab\n",
    "pd.crosstab(\n",
    "    species_info[\"category\"], \n",
    "    species_info[\"conservation_status\"].isna(),\n",
    "    rownames=[\"category\"], \n",
    "     colnames = ['Conservation is NAN']) \n",
    "\n",
    "#Notes: The category that we known less of their conservation status are Vascular plants (4424 nan) and non vascular Plants(328). \n",
    "#Alongside with the category birds with 442 Nan values on conservation status. Nan in this context mean we lack info.      "
   ]
  },
  {
   "cell_type": "code",
   "execution_count": 19,
   "metadata": {},
   "outputs": [],
   "source": [
    "#Questions to consider: (\"¿How is distributed observation by category?, which park have the more observation of endagered species?, /\n",
    "#what park has the most observation of species? "
   ]
  },
  {
   "cell_type": "code",
   "execution_count": null,
   "metadata": {},
   "outputs": [],
   "source": [
    "#Notes: Grouping both dataset through the column scientific_name, although it would be interesting to check first if there similarities between \n",
    "#both columns. Investigate about how cientific names are composed so we could split string to perform analysis by specie or found a key column key.   "
   ]
  },
  {
   "cell_type": "code",
   "execution_count": null,
   "metadata": {},
   "outputs": [],
   "source": [
    "#Strategies to deal with missing values: \n",
    "#Method 1: drop all of the rows with a missing value. \n",
    "#Method 2: fill the missing values with the mean of the column, or with some other aggregate value."
   ]
  }
 ],
 "metadata": {
  "kernelspec": {
   "display_name": "Python 3 (ipykernel)",
   "language": "python",
   "name": "python3"
  },
  "language_info": {
   "codemirror_mode": {
    "name": "ipython",
    "version": 3
   },
   "file_extension": ".py",
   "mimetype": "text/x-python",
   "name": "python",
   "nbconvert_exporter": "python",
   "pygments_lexer": "ipython3",
   "version": "3.11.4"
  }
 },
 "nbformat": 4,
 "nbformat_minor": 4
}
